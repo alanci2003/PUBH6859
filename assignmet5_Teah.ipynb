{
  "nbformat": 4,
  "nbformat_minor": 0,
  "metadata": {
    "colab": {
      "name": "assignmet5_Teah.ipynb",
      "provenance": [],
      "include_colab_link": true
    },
    "kernelspec": {
      "name": "python3",
      "display_name": "Python 3"
    },
    "language_info": {
      "name": "python"
    }
  },
  "cells": [
    {
      "cell_type": "markdown",
      "metadata": {
        "id": "view-in-github",
        "colab_type": "text"
      },
      "source": [
        "<a href=\"https://colab.research.google.com/github/omicsEye/PUBH6859/blob/main/assignmet5_Teah.ipynb\" target=\"_parent\"><img src=\"https://colab.research.google.com/assets/colab-badge.svg\" alt=\"Open In Colab\"/></a>"
      ]
    },
    {
      "cell_type": "markdown",
      "metadata": {
        "id": "UhMOpph_nRq2"
      },
      "source": [
        "**Questions:** \n",
        "1. Is there a relationship between any of the diseases \n",
        "\n",
        "*   It is possible for a patient to have more then one disease (ei Diabetic Retinopathy and Hypertension) in one eye. \n",
        "*   A patient could also have different diseases in each eye. \n",
        "* The patient could also have one disease only in one eye. \n",
        "\n",
        "2. Is there a relationship between age and any of the diseases\n",
        "\n",
        "**Data:** https://www.kaggle.com/andrewmvd/ocular-disease-recognition-odir5k \n",
        " (using df_full.csv)\n"
      ]
    },
    {
      "cell_type": "code",
      "metadata": {
        "id": "zsRD3mN4hbau"
      },
      "source": [
        "#Importing Libraries \n",
        "import pandas as pd\n",
        "import numpy as np\n",
        "import seaborn as sns\n",
        "import matplotlib.pyplot as plt\n",
        "from scipy import stats\n",
        "from sklearn.linear_model import LinearRegression"
      ],
      "execution_count": null,
      "outputs": []
    },
    {
      "cell_type": "code",
      "metadata": {
        "colab": {
          "base_uri": "https://localhost:8080/"
        },
        "id": "MZdsIEruiW-Q",
        "outputId": "bbf59acf-f332-4047-9684-5a45219cc419"
      },
      "source": [
        "#Mounting Drive\n",
        "from google.colab import drive\n",
        "drive.mount('/content/drive')"
      ],
      "execution_count": null,
      "outputs": [
        {
          "output_type": "stream",
          "text": [
            "Mounted at /content/drive\n"
          ],
          "name": "stdout"
        }
      ]
    },
    {
      "cell_type": "code",
      "metadata": {
        "colab": {
          "base_uri": "https://localhost:8080/",
          "height": 716
        },
        "id": "fRXheOEYifYx",
        "outputId": "22d5a56b-6669-419b-e213-758d47d16dbb"
      },
      "source": [
        "#Examing Data \n",
        "df = pd.read_csv(\"/content/drive/Shareddrives/AEye /data/full_df.csv\")\n",
        "df.head(10)"
      ],
      "execution_count": null,
      "outputs": [
        {
          "output_type": "execute_result",
          "data": {
            "text/html": [
              "<div>\n",
              "<style scoped>\n",
              "    .dataframe tbody tr th:only-of-type {\n",
              "        vertical-align: middle;\n",
              "    }\n",
              "\n",
              "    .dataframe tbody tr th {\n",
              "        vertical-align: top;\n",
              "    }\n",
              "\n",
              "    .dataframe thead th {\n",
              "        text-align: right;\n",
              "    }\n",
              "</style>\n",
              "<table border=\"1\" class=\"dataframe\">\n",
              "  <thead>\n",
              "    <tr style=\"text-align: right;\">\n",
              "      <th></th>\n",
              "      <th>ID</th>\n",
              "      <th>Patient Age</th>\n",
              "      <th>Patient Sex</th>\n",
              "      <th>Left-Fundus</th>\n",
              "      <th>Right-Fundus</th>\n",
              "      <th>Left-Diagnostic Keywords</th>\n",
              "      <th>Right-Diagnostic Keywords</th>\n",
              "      <th>N</th>\n",
              "      <th>D</th>\n",
              "      <th>G</th>\n",
              "      <th>C</th>\n",
              "      <th>A</th>\n",
              "      <th>H</th>\n",
              "      <th>M</th>\n",
              "      <th>O</th>\n",
              "      <th>filepath</th>\n",
              "      <th>labels</th>\n",
              "      <th>target</th>\n",
              "      <th>filename</th>\n",
              "    </tr>\n",
              "  </thead>\n",
              "  <tbody>\n",
              "    <tr>\n",
              "      <th>0</th>\n",
              "      <td>0</td>\n",
              "      <td>69</td>\n",
              "      <td>Female</td>\n",
              "      <td>0_left.jpg</td>\n",
              "      <td>0_right.jpg</td>\n",
              "      <td>cataract</td>\n",
              "      <td>normal fundus</td>\n",
              "      <td>0</td>\n",
              "      <td>0</td>\n",
              "      <td>0</td>\n",
              "      <td>1</td>\n",
              "      <td>0</td>\n",
              "      <td>0</td>\n",
              "      <td>0</td>\n",
              "      <td>0</td>\n",
              "      <td>../input/ocular-disease-recognition-odir5k/ODI...</td>\n",
              "      <td>['N']</td>\n",
              "      <td>[1, 0, 0, 0, 0, 0, 0, 0]</td>\n",
              "      <td>0_right.jpg</td>\n",
              "    </tr>\n",
              "    <tr>\n",
              "      <th>1</th>\n",
              "      <td>1</td>\n",
              "      <td>57</td>\n",
              "      <td>Male</td>\n",
              "      <td>1_left.jpg</td>\n",
              "      <td>1_right.jpg</td>\n",
              "      <td>normal fundus</td>\n",
              "      <td>normal fundus</td>\n",
              "      <td>1</td>\n",
              "      <td>0</td>\n",
              "      <td>0</td>\n",
              "      <td>0</td>\n",
              "      <td>0</td>\n",
              "      <td>0</td>\n",
              "      <td>0</td>\n",
              "      <td>0</td>\n",
              "      <td>../input/ocular-disease-recognition-odir5k/ODI...</td>\n",
              "      <td>['N']</td>\n",
              "      <td>[1, 0, 0, 0, 0, 0, 0, 0]</td>\n",
              "      <td>1_right.jpg</td>\n",
              "    </tr>\n",
              "    <tr>\n",
              "      <th>2</th>\n",
              "      <td>2</td>\n",
              "      <td>42</td>\n",
              "      <td>Male</td>\n",
              "      <td>2_left.jpg</td>\n",
              "      <td>2_right.jpg</td>\n",
              "      <td>laser spot，moderate non proliferative retinopathy</td>\n",
              "      <td>moderate non proliferative retinopathy</td>\n",
              "      <td>0</td>\n",
              "      <td>1</td>\n",
              "      <td>0</td>\n",
              "      <td>0</td>\n",
              "      <td>0</td>\n",
              "      <td>0</td>\n",
              "      <td>0</td>\n",
              "      <td>1</td>\n",
              "      <td>../input/ocular-disease-recognition-odir5k/ODI...</td>\n",
              "      <td>['D']</td>\n",
              "      <td>[0, 1, 0, 0, 0, 0, 0, 0]</td>\n",
              "      <td>2_right.jpg</td>\n",
              "    </tr>\n",
              "    <tr>\n",
              "      <th>3</th>\n",
              "      <td>4</td>\n",
              "      <td>53</td>\n",
              "      <td>Male</td>\n",
              "      <td>4_left.jpg</td>\n",
              "      <td>4_right.jpg</td>\n",
              "      <td>macular epiretinal membrane</td>\n",
              "      <td>mild nonproliferative retinopathy</td>\n",
              "      <td>0</td>\n",
              "      <td>1</td>\n",
              "      <td>0</td>\n",
              "      <td>0</td>\n",
              "      <td>0</td>\n",
              "      <td>0</td>\n",
              "      <td>0</td>\n",
              "      <td>1</td>\n",
              "      <td>../input/ocular-disease-recognition-odir5k/ODI...</td>\n",
              "      <td>['D']</td>\n",
              "      <td>[0, 1, 0, 0, 0, 0, 0, 0]</td>\n",
              "      <td>4_right.jpg</td>\n",
              "    </tr>\n",
              "    <tr>\n",
              "      <th>4</th>\n",
              "      <td>5</td>\n",
              "      <td>50</td>\n",
              "      <td>Female</td>\n",
              "      <td>5_left.jpg</td>\n",
              "      <td>5_right.jpg</td>\n",
              "      <td>moderate non proliferative retinopathy</td>\n",
              "      <td>moderate non proliferative retinopathy</td>\n",
              "      <td>0</td>\n",
              "      <td>1</td>\n",
              "      <td>0</td>\n",
              "      <td>0</td>\n",
              "      <td>0</td>\n",
              "      <td>0</td>\n",
              "      <td>0</td>\n",
              "      <td>0</td>\n",
              "      <td>../input/ocular-disease-recognition-odir5k/ODI...</td>\n",
              "      <td>['D']</td>\n",
              "      <td>[0, 1, 0, 0, 0, 0, 0, 0]</td>\n",
              "      <td>5_right.jpg</td>\n",
              "    </tr>\n",
              "    <tr>\n",
              "      <th>5</th>\n",
              "      <td>6</td>\n",
              "      <td>60</td>\n",
              "      <td>Male</td>\n",
              "      <td>6_left.jpg</td>\n",
              "      <td>6_right.jpg</td>\n",
              "      <td>macular epiretinal membrane</td>\n",
              "      <td>moderate non proliferative retinopathy，epireti...</td>\n",
              "      <td>0</td>\n",
              "      <td>1</td>\n",
              "      <td>0</td>\n",
              "      <td>0</td>\n",
              "      <td>0</td>\n",
              "      <td>0</td>\n",
              "      <td>0</td>\n",
              "      <td>1</td>\n",
              "      <td>../input/ocular-disease-recognition-odir5k/ODI...</td>\n",
              "      <td>['D']</td>\n",
              "      <td>[0, 1, 0, 0, 0, 0, 0, 0]</td>\n",
              "      <td>6_right.jpg</td>\n",
              "    </tr>\n",
              "    <tr>\n",
              "      <th>6</th>\n",
              "      <td>7</td>\n",
              "      <td>60</td>\n",
              "      <td>Female</td>\n",
              "      <td>7_left.jpg</td>\n",
              "      <td>7_right.jpg</td>\n",
              "      <td>drusen</td>\n",
              "      <td>mild nonproliferative retinopathy</td>\n",
              "      <td>0</td>\n",
              "      <td>1</td>\n",
              "      <td>0</td>\n",
              "      <td>0</td>\n",
              "      <td>0</td>\n",
              "      <td>0</td>\n",
              "      <td>0</td>\n",
              "      <td>1</td>\n",
              "      <td>../input/ocular-disease-recognition-odir5k/ODI...</td>\n",
              "      <td>['D']</td>\n",
              "      <td>[0, 1, 0, 0, 0, 0, 0, 0]</td>\n",
              "      <td>7_right.jpg</td>\n",
              "    </tr>\n",
              "    <tr>\n",
              "      <th>7</th>\n",
              "      <td>8</td>\n",
              "      <td>59</td>\n",
              "      <td>Male</td>\n",
              "      <td>8_left.jpg</td>\n",
              "      <td>8_right.jpg</td>\n",
              "      <td>normal fundus</td>\n",
              "      <td>normal fundus</td>\n",
              "      <td>1</td>\n",
              "      <td>0</td>\n",
              "      <td>0</td>\n",
              "      <td>0</td>\n",
              "      <td>0</td>\n",
              "      <td>0</td>\n",
              "      <td>0</td>\n",
              "      <td>0</td>\n",
              "      <td>../input/ocular-disease-recognition-odir5k/ODI...</td>\n",
              "      <td>['N']</td>\n",
              "      <td>[1, 0, 0, 0, 0, 0, 0, 0]</td>\n",
              "      <td>8_right.jpg</td>\n",
              "    </tr>\n",
              "    <tr>\n",
              "      <th>8</th>\n",
              "      <td>9</td>\n",
              "      <td>54</td>\n",
              "      <td>Male</td>\n",
              "      <td>9_left.jpg</td>\n",
              "      <td>9_right.jpg</td>\n",
              "      <td>normal fundus</td>\n",
              "      <td>vitreous degeneration</td>\n",
              "      <td>0</td>\n",
              "      <td>0</td>\n",
              "      <td>0</td>\n",
              "      <td>0</td>\n",
              "      <td>0</td>\n",
              "      <td>0</td>\n",
              "      <td>0</td>\n",
              "      <td>1</td>\n",
              "      <td>../input/ocular-disease-recognition-odir5k/ODI...</td>\n",
              "      <td>['O']</td>\n",
              "      <td>[0, 0, 0, 0, 0, 0, 0, 1]</td>\n",
              "      <td>9_right.jpg</td>\n",
              "    </tr>\n",
              "    <tr>\n",
              "      <th>9</th>\n",
              "      <td>10</td>\n",
              "      <td>70</td>\n",
              "      <td>Male</td>\n",
              "      <td>10_left.jpg</td>\n",
              "      <td>10_right.jpg</td>\n",
              "      <td>epiretinal membrane</td>\n",
              "      <td>normal fundus</td>\n",
              "      <td>0</td>\n",
              "      <td>0</td>\n",
              "      <td>0</td>\n",
              "      <td>0</td>\n",
              "      <td>0</td>\n",
              "      <td>0</td>\n",
              "      <td>0</td>\n",
              "      <td>1</td>\n",
              "      <td>../input/ocular-disease-recognition-odir5k/ODI...</td>\n",
              "      <td>['N']</td>\n",
              "      <td>[1, 0, 0, 0, 0, 0, 0, 0]</td>\n",
              "      <td>10_right.jpg</td>\n",
              "    </tr>\n",
              "  </tbody>\n",
              "</table>\n",
              "</div>"
            ],
            "text/plain": [
              "   ID  Patient Age Patient Sex  ... labels                    target      filename\n",
              "0   0           69      Female  ...  ['N']  [1, 0, 0, 0, 0, 0, 0, 0]   0_right.jpg\n",
              "1   1           57        Male  ...  ['N']  [1, 0, 0, 0, 0, 0, 0, 0]   1_right.jpg\n",
              "2   2           42        Male  ...  ['D']  [0, 1, 0, 0, 0, 0, 0, 0]   2_right.jpg\n",
              "3   4           53        Male  ...  ['D']  [0, 1, 0, 0, 0, 0, 0, 0]   4_right.jpg\n",
              "4   5           50      Female  ...  ['D']  [0, 1, 0, 0, 0, 0, 0, 0]   5_right.jpg\n",
              "5   6           60        Male  ...  ['D']  [0, 1, 0, 0, 0, 0, 0, 0]   6_right.jpg\n",
              "6   7           60      Female  ...  ['D']  [0, 1, 0, 0, 0, 0, 0, 0]   7_right.jpg\n",
              "7   8           59        Male  ...  ['N']  [1, 0, 0, 0, 0, 0, 0, 0]   8_right.jpg\n",
              "8   9           54        Male  ...  ['O']  [0, 0, 0, 0, 0, 0, 0, 1]   9_right.jpg\n",
              "9  10           70        Male  ...  ['N']  [1, 0, 0, 0, 0, 0, 0, 0]  10_right.jpg\n",
              "\n",
              "[10 rows x 19 columns]"
            ]
          },
          "metadata": {
            "tags": []
          },
          "execution_count": 3
        }
      ]
    },
    {
      "cell_type": "code",
      "metadata": {
        "id": "smuKDHmnw90m"
      },
      "source": [
        "#Extracting Data Only Relevant for this Assignment \n",
        "diseases = df[[\"N\",\"D\",\"G\",\"C\",\"A\",\"H\",\"M\",\"O\"]]      #Diseases: Normal, Diabetic Retinopathy, Glaucoma, Cataract, AMD, Hypertension, Myopia, Others\n",
        "age = df[[\"Patient Age\",\"N\",\"D\",\"G\",\"C\",\"A\",\"H\",\"M\"]]"
      ],
      "execution_count": null,
      "outputs": []
    },
    {
      "cell_type": "code",
      "metadata": {
        "colab": {
          "base_uri": "https://localhost:8080/",
          "height": 286
        },
        "id": "-06vf_SVyq3P",
        "outputId": "e05a152c-2e3f-457b-a802-af4834600f1d"
      },
      "source": [
        "#Heatmap of Correlation\n",
        "sns.heatmap(diseases.corr(), annot = True,cmap= 'coolwarm')"
      ],
      "execution_count": null,
      "outputs": [
        {
          "output_type": "execute_result",
          "data": {
            "text/plain": [
              "<matplotlib.axes._subplots.AxesSubplot at 0x7f9725371810>"
            ]
          },
          "metadata": {
            "tags": []
          },
          "execution_count": 5
        },
        {
          "output_type": "display_data",
          "data": {
            "image/png": "[encoded data removed]",
            "text/plain": [
              "<Figure size 432x288 with 2 Axes>"
            ]
          },
          "metadata": {
            "tags": [],
            "needs_background": "light"
          }
        }
      ]
    },
    {
      "cell_type": "markdown",
      "metadata": {
        "id": "EnvFeMu3Tx1-"
      },
      "source": [
        "### Results for First Question \n",
        "\n",
        "While patients can have multiple diseases. There is like no correlation between any of the diseases. "
      ]
    },
    {
      "cell_type": "code",
      "metadata": {
        "colab": {
          "base_uri": "https://localhost:8080/",
          "height": 296
        },
        "id": "ndVCXg910TYc",
        "outputId": "b807443f-31b9-4432-ac09-687499fba9fc"
      },
      "source": [
        "# box plots and linear regression \n",
        "sns.boxplot(y='Patient Age',x='D',data=age)\n",
        "y=age['Patient Age']\n",
        "x=age['D']\n",
        "x=x.values.reshape((-1, 1))\n",
        "model = LinearRegression().fit(x, y)\n",
        "r_sq = model.score(x, y)\n",
        "print('coefficient of determination:', r_sq)"
      ],
      "execution_count": null,
      "outputs": [
        {
          "output_type": "stream",
          "text": [
            "coefficient of determination: 0.00828512317068053\n"
          ],
          "name": "stdout"
        },
        {
          "output_type": "display_data",
          "data": {
            "image/png": "[encoded data removed]",
            "text/plain": [
              "<Figure size 432x288 with 1 Axes>"
            ]
          },
          "metadata": {
            "tags": [],
            "needs_background": "light"
          }
        }
      ]
    },
    {
      "cell_type": "code",
      "metadata": {
        "colab": {
          "base_uri": "https://localhost:8080/",
          "height": 296
        },
        "id": "DVLMU3-T0vPG",
        "outputId": "1450d8bf-3d3d-48f1-f91e-f7615c23c4e8"
      },
      "source": [
        "sns.boxplot(y='Patient Age',x='C',data=age)\n",
        "y=age['Patient Age']\n",
        "x=age['C']\n",
        "x=x.values.reshape((-1, 1))\n",
        "model = LinearRegression().fit(x, y)\n",
        "r_sq = model.score(x, y)\n",
        "print('coefficient of determination:', r_sq)"
      ],
      "execution_count": null,
      "outputs": [
        {
          "output_type": "stream",
          "text": [
            "coefficient of determination: 0.03617563731600504\n"
          ],
          "name": "stdout"
        },
        {
          "output_type": "display_data",
          "data": {
            "image/png": "[encoded data removed]",
            "text/plain": [
              "<Figure size 432x288 with 1 Axes>"
            ]
          },
          "metadata": {
            "tags": [],
            "needs_background": "light"
          }
        }
      ]
    },
    {
      "cell_type": "code",
      "metadata": {
        "colab": {
          "base_uri": "https://localhost:8080/",
          "height": 296
        },
        "id": "Y0p_huLp09sz",
        "outputId": "aa360906-667e-4fef-db38-15d984c6597d"
      },
      "source": [
        "sns.boxplot(y='Patient Age',x='A',data=age)\n",
        "y=age['Patient Age']\n",
        "x=age['A']\n",
        "x=x.values.reshape((-1, 1))\n",
        "model = LinearRegression().fit(x, y)\n",
        "r_sq = model.score(x, y)\n",
        "print('coefficient of determination:', r_sq)"
      ],
      "execution_count": null,
      "outputs": [
        {
          "output_type": "stream",
          "text": [
            "coefficient of determination: 0.0034184466726088214\n"
          ],
          "name": "stdout"
        },
        {
          "output_type": "display_data",
          "data": {
            "image/png": "[encoded data removed]",
            "text/plain": [
              "<Figure size 432x288 with 1 Axes>"
            ]
          },
          "metadata": {
            "tags": [],
            "needs_background": "light"
          }
        }
      ]
    },
    {
      "cell_type": "code",
      "metadata": {
        "colab": {
          "base_uri": "https://localhost:8080/",
          "height": 296
        },
        "id": "cTJMWcgf1Aax",
        "outputId": "56fa1a43-f74c-4e72-c3fb-8031ade51908"
      },
      "source": [
        "sns.boxplot(y='Patient Age',x='H',data=df)\n",
        "y=age['Patient Age']\n",
        "x=age['H']\n",
        "x=x.values.reshape((-1, 1))\n",
        "model = LinearRegression().fit(x, y)\n",
        "r_sq = model.score(x, y)\n",
        "print('coefficient of determination:', r_sq)"
      ],
      "execution_count": null,
      "outputs": [
        {
          "output_type": "stream",
          "text": [
            "coefficient of determination: 0.0007015990886956036\n"
          ],
          "name": "stdout"
        },
        {
          "output_type": "display_data",
          "data": {
            "image/png": "[encoded data removed]",
            "text/plain": [
              "<Figure size 432x288 with 1 Axes>"
            ]
          },
          "metadata": {
            "tags": [],
            "needs_background": "light"
          }
        }
      ]
    },
    {
      "cell_type": "code",
      "metadata": {
        "colab": {
          "base_uri": "https://localhost:8080/",
          "height": 296
        },
        "id": "aLiHYJPS1Wme",
        "outputId": "b929c373-1bf1-4281-c5f3-4ace939b280f"
      },
      "source": [
        "sns.boxplot(y='Patient Age',x='M',data=df)\n",
        "y=age['Patient Age']\n",
        "x=age['M']\n",
        "x=x.values.reshape((-1, 1))\n",
        "model = LinearRegression().fit(x, y)\n",
        "r_sq = model.score(x, y)\n",
        "print('coefficient of determination:', r_sq)"
      ],
      "execution_count": null,
      "outputs": [
        {
          "output_type": "stream",
          "text": [
            "coefficient of determination: 0.0006389865105158599\n"
          ],
          "name": "stdout"
        },
        {
          "output_type": "display_data",
          "data": {
            "image/png": "[encoded data removed]",
            "text/plain": [
              "<Figure size 432x288 with 1 Axes>"
            ]
          },
          "metadata": {
            "tags": [],
            "needs_background": "light"
          }
        }
      ]
    },
    {
      "cell_type": "markdown",
      "metadata": {
        "id": "_jbHAzTrA5mD"
      },
      "source": [
        "### Results for Question 2\n",
        "There is likely no correlation between any of the diseases. Myopia, AMD and Cataract appear more common in older people"
      ]
    },
    {
      "cell_type": "markdown",
      "metadata": {
        "id": "ek3dQyeWBFQQ"
      },
      "source": [
        "# Uploading to Github \n",
        "\n",
        "#### In Google Collab \n",
        "\n",
        "\n",
        "1.   Files \n",
        "2.   Save Copy in Github\n",
        "3.   Log into Github and select a repo \n",
        "\n",
        "\n",
        "#### In Terminal \n",
        "\n",
        "1.   git clone https://github.com/omicsEye/PUBH6859.git\n",
        "2.   git add  assignment5_Teah.ipynb \n",
        "3.   git commit -m \"upload files\"\n",
        "4.   git push \n",
        "\n",
        "I did not have permission to upload files from my github account \n",
        "\n"
      ]
    }
  ]
}